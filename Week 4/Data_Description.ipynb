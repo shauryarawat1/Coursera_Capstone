{
  "nbformat": 4,
  "nbformat_minor": 0,
  "metadata": {
    "kernelspec": {
      "display_name": "Python 3.6",
      "language": "python",
      "name": "python3"
    },
    "language_info": {
      "codemirror_mode": {
        "name": "ipython",
        "version": 3
      },
      "file_extension": ".py",
      "mimetype": "text/x-python",
      "name": "python",
      "nbconvert_exporter": "python",
      "pygments_lexer": "ipython3",
      "version": "3.6.8"
    },
    "colab": {
      "name": "Data Description.ipynb",
      "provenance": [],
      "collapsed_sections": []
    }
  },
  "cells": [
    {
      "cell_type": "markdown",
      "metadata": {
        "collapsed": true,
        "id": "l-YxW42LIvUE"
      },
      "source": [
        "# The Battle of Neighborhoods | Data Description"
      ]
    },
    {
      "cell_type": "markdown",
      "metadata": {
        "id": "AkAJ0mPXIvUP"
      },
      "source": [
        "## Data Description:\n",
        "\n",
        "Data Link: https://en.wikipedia.org/wiki/List_of_postal_codes_of_Canada:_M \n",
        "\n",
        "We will be using Scarborough dataset which we scrapped from wikipedia for the Week 3 assignment. Dataset consists of postal codes, boroughs and neighborhoods.\n",
        "This dataset proved to be reliable for the past week's assignment and the data is up to date which will avoid discrepanices when implemented in a real-life application.\n",
        "\n",
        "We will retrieve the data in XML form from the provided link and after some data preprocessing we will store the required data in a dataframe which will store and display the data in a structured manner.\n",
        "\n",
        "\n",
        "\n",
        "\n",
        "## Foursquare API Data:\n",
        "\n",
        "We will need data about different venues in different neighborhoods of that specific borough. \n",
        "In order to gain that information we will use \"Foursquare\" locational information. Foursquare is a location data provider with information about all manner of venues and events within an area of interest. Such information includes venue names, locations, menus and even photos. As such, the foursquare location platform will be used as the sole data source since all the stated required information can be obtained through the API. Since we do not have a premium account we can only make a small amount of calls everyday.\n",
        "\n",
        "After finding the list of neighborhoods, we then connect to the Foursquare API to gather information about venues inside each and every neighborhood. For each neighborhood, we have chosen the radius to be 100 meters.\n",
        "\n",
        "The data retrieved from Foursquare contained information of venues within a specified distance of the longitude and latitude of the postcodes. The information obtained per venue include - Neighborhood, Neighborhood Coordinates (Latitude and Longitude), Name of the venue, the coordinates of the venue and the category to which the venue belongs.\n",
        "\n",
        "We will be using this data to perform the analyis of every neighborhood which will enable us to make comparisons among them. We will consider multiple aspects during comparisons because when people plan to move to a new neighborhood they first look out for all the benefits they can enjoy by moving to a particular neighborhood. The data will be checked beforehand before the actual implementation to ensure that it is noise free.\n"
      ]
    }
  ]
}