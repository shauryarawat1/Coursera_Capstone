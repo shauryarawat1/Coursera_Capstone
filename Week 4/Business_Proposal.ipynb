{
  "nbformat": 4,
  "nbformat_minor": 0,
  "metadata": {
    "kernelspec": {
      "display_name": "Python 3.6",
      "language": "python",
      "name": "python3"
    },
    "language_info": {
      "codemirror_mode": {
        "name": "ipython",
        "version": 3
      },
      "file_extension": ".py",
      "mimetype": "text/x-python",
      "name": "python",
      "nbconvert_exporter": "python",
      "pygments_lexer": "ipython3",
      "version": "3.6.8"
    },
    "colab": {
      "name": "Business Proposal.ipynb",
      "provenance": [],
      "collapsed_sections": []
    }
  },
  "cells": [
    {
      "cell_type": "markdown",
      "metadata": {
        "collapsed": true,
        "id": "99Yj3UtKq_4r"
      },
      "source": [
        "# The Battle of Neighborhoods | Business Proposal | Introduction"
      ]
    },
    {
      "cell_type": "markdown",
      "metadata": {
        "id": "XekNfY1_q_43"
      },
      "source": [
        "## Introduction:\n",
        "\n",
        "This project will help people in exploring a myriad of better facilities around their neighborhood. This will help people in deciding the most suitable neighborhood for them in Scarborough, Toronto after reviewing the results of our analysis.\n",
        "\n",
        "Lots of people are migrating to various states of Canada and they need to make important decisions before migrating such as the prices of the houses as well as quality of schools for their children. This project aims to help people in selecting the ideal neighborhood. The various aspects that will be considered are the house prices, schools quality, access to various facilities such as grocery stores, hospitals, restaurants, offices and how far each of them is.\n",
        "\n",
        "This Project enables people to compare multiple neighborhoods by analysis of multiple features. This will help people to get awareness of the area and neighborhood before moving to a new city, state, country or place for their work or to start a new fresh life.\n",
        "\n",
        "\n",
        "## Problem to be solved:\n",
        "\n",
        "The major purpose of this project, is to suggest an ideal neighborhood in a new city for the person who is moving there. Social presence in society in terms of like minded people. Connectivity to the airport, bus stand, city center, markets and other vital facilities are taken into consideration before performing their analysis.\n",
        "\n",
        "1. Sorted list of house in terms of housing prices in a ascending or descending order\n",
        "2. Sorted list of schools in terms of location, fees, rating and reviews\n",
        "\n",
        "\n",
        "## The Location:\n",
        "Scarborough is an area of Toronto, Ontario, Canada. Situated atop the Scarborough Bluffs, it occupies the eastern part of the city. It borders Old Toronto, East York and North York in the west and the city of Markham in the north.\n",
        "\n",
        "Scarborough, which was first settled by Europeans in the 1790s, has grown from a collection of small rural villages and farms to become fully urbanized with a diverse cultural community. The Scarborough Civic Centre – the former city‘s last seat of government – is occupied by City of Toronto offices.\n",
        "\n",
        "Since the end of World War II, Scarborough has been a popular destination for new immigrants in Canada. As a result, it is one of the most diverse and multicultural areas in the Greater Toronto Area, being home to various religious groups and places of worship. It includes a number of natural landmarks, including the Toronto Zoo, Rouge Park and the Scarborough Bluffs. The northeast corner of Scarborough is largely rural with some of Toronto’s last remaining farms, earning Scarborough its reputation of being greener than any other part of Toronto.\n",
        "\n",
        "\n",
        "## Foursquare API:\n",
        "This project would use Four-square API as its prime data gathering source as it has a database of millions of places, especially the places API which provides the ability to perform location search, location sharing and details about a business. Since we do not have a premium account we can only make a limited number of calls per day. Using the Fourquare data would require the client ID and secret along with some other parameters.\n",
        "\n",
        "\n",
        "## Work Flow:\n",
        "Using credentials of Foursquare API features of near-by places of the neighborhoods would be mined. Due to http request limitations the number of places per neighborhood parameter would reasonably be set to 100 and the radius parameter would be set to 500. These parameters were set in the graded assignments of the past week and after multiple implementations these parameters seem to be suitable for our project.\n",
        "\n",
        "\n",
        "## Clustering Approach:\n",
        "To compare the similarities of two cities, we decided to explore neighborhoods, segment them, and group them into clusters to find similar neighborhoods in a big city like New York and Toronto. To be able to do that, we need to cluster data which is a form of unsupervised machine learning: k-means clustering algorithm. We will decide the number of clusters to be needed and after clustering the neighborhoods we can visualize the same in the map.\n",
        "\n",
        "\n",
        "## Libraries Which are Used to Develope the Project:\n",
        "Pandas: For creating and manipulating dataframes. The data collected from the sources will be stored in a dataframe.\n",
        "\n",
        "Folium: Python visualization library would be used to visualize the neighborhoods cluster distribution of using interactive leaflet map. \n",
        "\n",
        "Scikit Learn: For importing k-means clustering algorithm.\n",
        "\n",
        "JSON: Library to handle JSON files which will be retrieved after making requests.\n",
        "\n",
        "XML: To separate data from presentation and XML stores data in plain text format which is important during the data preprocessing process.\n",
        "\n",
        "Geocoder: To retrieve Location Data in the form of coordinates.\n",
        "\n",
        "Beautiful Soup and Requests: To scrap and library to handle http requests.\n",
        "\n",
        "Matplotlib: Will be used to generate various kinds of plots to represent results.\n",
        "\n",
        "NumPy: Will be required to work with numerical data."
      ]
    }
  ]
}